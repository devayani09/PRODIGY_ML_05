{
  "cells": [
    {
      "cell_type": "code",
      "execution_count": 1,
      "metadata": {
        "id": "7Du42fZaZNlJ"
      },
      "outputs": [],
      "source": [
        "import numpy as np\n",
        "import pandas as pd\n",
        "import os\n",
        "from PIL import Image\n",
        "import tensorflow as tf\n",
        "import matplotlib.pyplot as plt\n",
        "from sklearn.model_selection import train_test_split\n",
        "from tensorflow.keras.utils import to_categorical\n",
        "from tensorflow.keras.preprocessing.image import ImageDataGenerator\n",
        "from tensorflow.keras.models import Sequential\n",
        "from tensorflow.keras.layers import Conv2D, MaxPooling2D, Flatten, Dense, Dropout\n",
        "from tensorflow.keras.optimizers import Adam\n",
        "from tensorflow.keras.callbacks import EarlyStopping\n",
        "from sklearn.preprocessing import LabelEncoder"
      ]
    },
    {
      "cell_type": "code",
      "execution_count": 2,
      "metadata": {
        "colab": {
          "base_uri": "https://localhost:8080/"
        },
        "id": "IDEwV9Udsec8",
        "outputId": "d846c690-0302-4074-a07e-e93e917557cf"
      },
      "outputs": [
        {
          "output_type": "stream",
          "name": "stdout",
          "text": [
            "Total Categories: 101\n",
            "Categories: ['tuna_tartare', 'strawberry_shortcake', 'spring_rolls', 'tiramisu', 'sushi', 'spaghetti_carbonara', 'takoyaki', 'waffles', 'tacos', 'steak', 'spaghetti_bolognese', 'seaweed_salad', 'samosa', 'scallops', 'ramen', 'ravioli', 'risotto', 'sashimi', 'red_velvet_cake', 'shrimp_and_grits', 'pho', 'poutine', 'peking_duck', 'paella', 'pancakes', 'pulled_pork_sandwich', 'pizza', 'prime_rib', 'pork_chop', 'panna_cotta', 'omelette', 'onion_rings', 'pad_thai', 'lobster_roll_sandwich', 'miso_soup', 'nachos', 'macarons', 'mussels', 'oysters', 'macaroni_and_cheese', 'ice_cream', 'lasagna', 'hot_and_sour_soup', 'gyoza', 'hot_dog', 'lobster_bisque', 'huevos_rancheros', 'guacamole', 'hamburger', 'hummus', 'garlic_bread', 'fried_calamari', 'grilled_salmon', 'frozen_yogurt', 'gnocchi', 'fried_rice', 'grilled_cheese_sandwich', 'greek_salad', 'french_toast', 'french_onion_soup', 'foie_gras', 'edamame', 'dumplings', 'eggs_benedict', 'french_fries', 'filet_mignon', 'fish_and_chips', 'falafel', 'escargots', 'donuts', 'deviled_eggs', 'churros', 'crab_cakes', 'clam_chowder', 'creme_brulee', 'chocolate_mousse', 'club_sandwich', 'chocolate_cake', 'croque_madame', 'cup_cakes', 'cheesecake', 'chicken_quesadilla', 'carrot_cake', 'cannoli', 'caesar_salad', 'chicken_curry', 'ceviche', 'chicken_wings', 'cheese_plate', 'caprese_salad', 'bread_pudding', 'beef_carpaccio', 'beef_tartare', 'bruschetta', 'breakfast_burrito', 'bibimbap', 'baby_back_ribs', 'beet_salad', 'baklava', 'beignets', 'apple_pie']\n"
          ]
        }
      ],
      "source": [
        "data_dir = '/content/drive/MyDrive/images/'\n",
        "categories = os.listdir(data_dir)\n",
        "print(f'Total Categories: {len(categories)}')\n",
        "print(f'Categories: {categories}')"
      ]
    },
    {
      "cell_type": "code",
      "execution_count": 3,
      "metadata": {
        "id": "DTAINZYdsmj4"
      },
      "outputs": [],
      "source": [
        "IMG_SIZE = 224\n",
        "BATCH_SIZE = 256\n",
        "NUM_CLASSES = 101"
      ]
    },
    {
      "cell_type": "code",
      "execution_count": 4,
      "metadata": {
        "id": "BDvBOgFEtItq"
      },
      "outputs": [],
      "source": [
        "train_datagen = ImageDataGenerator(\n",
        "    rescale=1./255,\n",
        "    rotation_range=30,\n",
        "    width_shift_range=0.2,\n",
        "    height_shift_range=0.2,\n",
        "    shear_range=0.2,\n",
        "    zoom_range=0.2,\n",
        "    horizontal_flip=True,\n",
        "    validation_split=0.2\n",
        ")"
      ]
    },
    {
      "cell_type": "code",
      "execution_count": 5,
      "metadata": {
        "colab": {
          "base_uri": "https://localhost:8080/"
        },
        "id": "873SzGe6tL1w",
        "outputId": "4ff7e8db-99fe-4532-a081-bc7a4ec88070"
      },
      "outputs": [
        {
          "output_type": "stream",
          "name": "stdout",
          "text": [
            "Found 8813 images belonging to 101 classes.\n"
          ]
        }
      ],
      "source": [
        "train_generator = train_datagen.flow_from_directory(\n",
        "    data_dir,\n",
        "    target_size=(IMG_SIZE, IMG_SIZE),\n",
        "    batch_size=BATCH_SIZE,\n",
        "    class_mode='categorical',\n",
        "    subset='training'\n",
        ")"
      ]
    },
    {
      "cell_type": "code",
      "execution_count": 6,
      "metadata": {
        "colab": {
          "base_uri": "https://localhost:8080/"
        },
        "id": "fVOvy7eCtQKV",
        "outputId": "662edba4-2df3-4ed3-9fd0-0948f12395a5"
      },
      "outputs": [
        {
          "output_type": "stream",
          "name": "stdout",
          "text": [
            "Found 2129 images belonging to 101 classes.\n"
          ]
        }
      ],
      "source": [
        "validation_generator = train_datagen.flow_from_directory(\n",
        "    data_dir,\n",
        "    target_size=(IMG_SIZE, IMG_SIZE),\n",
        "    batch_size=BATCH_SIZE,\n",
        "    class_mode='categorical',\n",
        "    subset='validation'\n",
        ")"
      ]
    },
    {
      "cell_type": "code",
      "execution_count": 7,
      "metadata": {
        "id": "UY7AlXe-tTdu"
      },
      "outputs": [],
      "source": [
        "from tensorflow.keras.applications import VGG16\n",
        "base_model = VGG16(weights='imagenet', include_top=False, input_shape=(IMG_SIZE, IMG_SIZE, 3))"
      ]
    },
    {
      "cell_type": "code",
      "execution_count": 8,
      "metadata": {
        "id": "k2dQBeIstW46"
      },
      "outputs": [],
      "source": [
        "x = base_model.output\n",
        "x = Flatten()(x)\n",
        "x = Dense(1024, activation='relu')(x)\n",
        "x = Dropout(0.5)(x)\n",
        "predictions = Dense(NUM_CLASSES, activation='softmax')(x)"
      ]
    },
    {
      "cell_type": "code",
      "execution_count": 9,
      "metadata": {
        "id": "XY9Y7PdithbR"
      },
      "outputs": [],
      "source": [
        "from tensorflow.keras.models import Model\n",
        "model = Model(inputs=base_model.input, outputs=predictions)"
      ]
    },
    {
      "cell_type": "code",
      "execution_count": 10,
      "metadata": {
        "id": "Vo_kxCICtk_w"
      },
      "outputs": [],
      "source": [
        "for layer in base_model.layers:\n",
        "    layer.trainable = False"
      ]
    },
    {
      "cell_type": "code",
      "execution_count": 11,
      "metadata": {
        "id": "JzolFcuRt0CW"
      },
      "outputs": [],
      "source": [
        "model.compile(optimizer='adam', loss='categorical_crossentropy', metrics=['accuracy'])"
      ]
    },
    {
      "cell_type": "code",
      "source": [
        "early_stopping = EarlyStopping(monitor='val_loss', patience=3, restore_best_weights=True)"
      ],
      "metadata": {
        "id": "f8oXaXVDkV9z"
      },
      "execution_count": 12,
      "outputs": []
    },
    {
      "cell_type": "code",
      "execution_count": null,
      "metadata": {
        "colab": {
          "base_uri": "https://localhost:8080/"
        },
        "id": "7ttG8tiLt2mI",
        "outputId": "93ed0f36-ac84-4d5a-ca9f-cd53779d6730"
      },
      "outputs": [
        {
          "metadata": {
            "tags": null
          },
          "name": "stdout",
          "output_type": "stream",
          "text": [
            "Epoch 1/10\n",
            "34/34 [==============================] - 7212s 215s/step - loss: 5.2227 - accuracy: 0.0112 - val_loss: 4.5955 - val_accuracy: 0.0195\n",
            "Epoch 2/10\n",
            "26/34 [=====================>........] - ETA: 22:22 - loss: 4.5909 - accuracy: 0.0154"
          ]
        }
      ],
      "source": [
        "history = model.fit(\n",
        "    train_generator,\n",
        "    steps_per_epoch=train_generator.samples // BATCH_SIZE,\n",
        "    validation_data=validation_generator,\n",
        "    validation_steps=validation_generator.samples // BATCH_SIZE,\n",
        "    epochs=10,\n",
        "    callbacks=[early_stopping]\n",
        ")"
      ]
    },
    {
      "cell_type": "code",
      "execution_count": 13,
      "metadata": {
        "id": "KP1oE2klt456"
      },
      "outputs": [],
      "source": [
        "for layer in base_model.layers[-4:]:\n",
        "    layer.trainable = True"
      ]
    },
    {
      "cell_type": "code",
      "execution_count": 14,
      "metadata": {
        "id": "ydvjioVmuIMN"
      },
      "outputs": [],
      "source": [
        "model.compile(optimizer=tf.keras.optimizers.Adam(1e-5), loss='categorical_crossentropy', metrics=['accuracy'])"
      ]
    },
    {
      "cell_type": "code",
      "source": [
        "history_finetune = model.fit(\n",
        "    train_generator,\n",
        "    steps_per_epoch=train_generator.samples // BATCH_SIZE,\n",
        "    validation_data=validation_generator,\n",
        "    validation_steps=validation_generator.samples // BATCH_SIZE,\n",
        "    epochs=10\n",
        ")"
      ],
      "metadata": {
        "id": "lEpzy_iMPVh6"
      },
      "execution_count": null,
      "outputs": []
    },
    {
      "cell_type": "code",
      "execution_count": 15,
      "metadata": {
        "id": "RUDflj_buH3S",
        "colab": {
          "base_uri": "https://localhost:8080/"
        },
        "outputId": "c6ae8aec-93ee-42b6-ab6b-08c9bf8cdb2c"
      },
      "outputs": [
        {
          "output_type": "stream",
          "name": "stderr",
          "text": [
            "/usr/local/lib/python3.10/dist-packages/keras/src/engine/training.py:3103: UserWarning: You are saving your model as an HDF5 file via `model.save()`. This file format is considered legacy. We recommend using instead the native Keras format, e.g. `model.save('my_model.keras')`.\n",
            "  saving_api.save_model(\n"
          ]
        }
      ],
      "source": [
        "model.save('food_classification_model.h5')"
      ]
    },
    {
      "cell_type": "code",
      "execution_count": 16,
      "metadata": {
        "id": "ye6rcmtHuPO5"
      },
      "outputs": [],
      "source": [
        "def predict_and_estimate_calories(image_path, model, class_calories_dict):\n",
        "    img = tf.keras.preprocessing.image.load_img(image_path, target_size=(IMG_SIZE, IMG_SIZE))\n",
        "    img_array = tf.keras.preprocessing.image.img_to_array(img)\n",
        "    img_array = tf.expand_dims(img_array, axis=0) / 255.0\n",
        "\n",
        "    predictions = model.predict(img_array)\n",
        "    predicted_class = tf.argmax(predictions[0])\n",
        "\n",
        "    class_labels = list(train_generator.class_indices.keys())\n",
        "    predicted_label = class_labels[predicted_class]\n",
        "    estimated_calories = class_calories_dict[predicted_label]\n",
        "\n",
        "    return predicted_label, estimated_calories"
      ]
    },
    {
      "cell_type": "code",
      "execution_count": 17,
      "metadata": {
        "id": "ZdjsFi_PuPLa"
      },
      "outputs": [],
      "source": [
        "class_calories_dict = {\n",
        "    'tuna_tartare': 150,\n",
        "    'strawberry_shortcake': 420,\n",
        "    'spring_rolls': 100,\n",
        "    'tiramisu': 600,\n",
        "    'sushi': 300,\n",
        "    'spaghetti_carbonara': 600,\n",
        "    'takoyaki': 350,\n",
        "    'waffles': 310,\n",
        "    'tacos': 250,\n",
        "    'steak': 679,\n",
        "    'spaghetti_bolognese': 550,\n",
        "    'seaweed_salad': 70,\n",
        "    'samosa': 130,\n",
        "    'scallops': 200,\n",
        "    'ramen': 450,\n",
        "    'ravioli': 380,\n",
        "    'risotto': 400,\n",
        "    'sashimi': 200,\n",
        "    'red_velvet_cake': 430,\n",
        "    'shrimp_and_grits': 530,\n",
        "    'pho': 400,\n",
        "    'poutine': 740,\n",
        "    'peking_duck': 340,\n",
        "    'paella': 380,\n",
        "    'pancakes': 300,\n",
        "    'pulled_pork_sandwich': 500,\n",
        "    'pizza': 285,\n",
        "    'prime_rib': 720,\n",
        "    'pork_chop': 290,\n",
        "    'panna_cotta': 350,\n",
        "    'omelette': 154,\n",
        "    'onion_rings': 280,\n",
        "    'pad_thai': 640,\n",
        "    'lobster_roll_sandwich': 600,\n",
        "    'miso_soup': 84,\n",
        "    'nachos': 430,\n",
        "    'macarons': 70,\n",
        "    'mussels': 140,\n",
        "    'oysters': 50,\n",
        "    'macaroni_and_cheese': 300,\n",
        "    'ice_cream': 207,\n",
        "    'lasagna': 600,\n",
        "    'hot_and_sour_soup': 90,\n",
        "    'gyoza': 200,\n",
        "    'hot_dog': 150,\n",
        "    'lobster_bisque': 270,\n",
        "    'huevos_rancheros': 350,\n",
        "    'guacamole': 230,\n",
        "    'hamburger': 354,\n",
        "    'hummus': 180,\n",
        "    'garlic_bread': 150,\n",
        "    'fried_calamari': 300,\n",
        "    'grilled_salmon': 360,\n",
        "    'frozen_yogurt': 180,\n",
        "    'gnocchi': 250,\n",
        "    'fried_rice': 238,\n",
        "    'grilled_cheese_sandwich': 400,\n",
        "    'greek_salad': 200,\n",
        "    'french_toast': 220,\n",
        "    'french_onion_soup': 369,\n",
        "    'foie_gras': 435,\n",
        "    'edamame': 122,\n",
        "    'dumplings': 45,\n",
        "    'eggs_benedict': 250,\n",
        "    'french_fries': 365,\n",
        "    'filet_mignon': 278,\n",
        "    'fish_and_chips': 680,\n",
        "    'falafel': 333,\n",
        "    'escargots': 170,\n",
        "    'donuts': 195,\n",
        "    'deviled_eggs': 64,\n",
        "    'churros': 116,\n",
        "    'crab_cakes': 220,\n",
        "    'clam_chowder': 180,\n",
        "    'creme_brulee': 300,\n",
        "    'chocolate_mousse': 350,\n",
        "    'club_sandwich': 600,\n",
        "    'chocolate_cake': 350,\n",
        "    'croque_madame': 400,\n",
        "    'cup_cakes': 400,\n",
        "    'cheesecake': 401,\n",
        "    'chicken_quesadilla': 300,\n",
        "    'carrot_cake': 300,\n",
        "    'cannoli': 216,\n",
        "    'caesar_salad': 360,\n",
        "    'chicken_curry': 300,\n",
        "    'ceviche': 150,\n",
        "    'chicken_wings': 200,\n",
        "    'cheese_plate': 400,\n",
        "    'caprese_salad': 250,\n",
        "    'bread_pudding': 300,\n",
        "    'beef_carpaccio': 120,\n",
        "    'beef_tartare': 200,\n",
        "    'bruschetta': 150,\n",
        "    'breakfast_burrito': 300,\n",
        "    'bibimbap': 490,\n",
        "    'baby_back_ribs': 300,\n",
        "    'beet_salad': 180,\n",
        "    'baklava': 334,\n",
        "    'beignets': 130,\n",
        "    'apple_pie': 296\n",
        "}"
      ]
    },
    {
      "cell_type": "code",
      "execution_count": 22,
      "metadata": {
        "id": "CBPws-8uuPI1",
        "colab": {
          "base_uri": "https://localhost:8080/"
        },
        "outputId": "36aaf8b9-cce2-4b3d-bbda-ade8858bbb8e"
      },
      "outputs": [
        {
          "output_type": "stream",
          "name": "stdout",
          "text": [
            "1/1 [==============================] - 1s 553ms/step\n",
            "Predicted food: lobster_roll_sandwich, Estimated calories: 600\n"
          ]
        }
      ],
      "source": [
        "image_path = '/content/drive/MyDrive/images/lobster_roll_sandwich/100646.jpg'\n",
        "predicted_label, estimated_calories = predict_and_estimate_calories(image_path, model, class_calories_dict)\n",
        "print(f\"Predicted food: {predicted_label}, Estimated calories: {estimated_calories}\")"
      ]
    },
    {
      "cell_type": "code",
      "source": [],
      "metadata": {
        "id": "SEAU5VjDMFJ4"
      },
      "execution_count": null,
      "outputs": []
    }
  ],
  "metadata": {
    "colab": {
      "provenance": []
    },
    "kernelspec": {
      "display_name": "Python 3",
      "name": "python3"
    },
    "language_info": {
      "name": "python"
    }
  },
  "nbformat": 4,
  "nbformat_minor": 0
}